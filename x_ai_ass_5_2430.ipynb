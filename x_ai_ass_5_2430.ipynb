{
  "nbformat": 4,
  "nbformat_minor": 0,
  "metadata": {
    "colab": {
      "provenance": [],
      "authorship_tag": "ABX9TyOrK3w7c00btQNkiAQn/996",
      "include_colab_link": true
    },
    "kernelspec": {
      "name": "python3",
      "display_name": "Python 3"
    },
    "language_info": {
      "name": "python"
    }
  },
  "cells": [
    {
      "cell_type": "markdown",
      "metadata": {
        "id": "view-in-github",
        "colab_type": "text"
      },
      "source": [
        "<a href=\"https://colab.research.google.com/github/2303A52430/explainable-AI-LAB/blob/main/x_ai_ass_5_2430.ipynb\" target=\"_parent\"><img src=\"https://colab.research.google.com/assets/colab-badge.svg\" alt=\"Open In Colab\"/></a>"
      ]
    },
    {
      "cell_type": "code",
      "execution_count": 1,
      "metadata": {
        "id": "bCJMTtSnFDLC"
      },
      "outputs": [],
      "source": [
        "import os\n",
        "import numpy as np\n",
        "import pandas as pd\n",
        "import matplotlib.pyplot as plt\n",
        "from sklearn.model_selection import train_test_split, GridSearchCV\n",
        "from sklearn.preprocessing import StandardScaler, MinMaxScaler, OneHotEncoder\n",
        "from sklearn.compose import ColumnTransformer\n",
        "from sklearn.pipeline import Pipeline\n",
        "from sklearn.impute import SimpleImputer\n",
        "from sklearn.metrics import mean_absolute_error, mean_squared_error, r2_score"
      ]
    },
    {
      "cell_type": "code",
      "source": [
        "from sklearn.linear_model import LinearRegression, Ridge, Lasso\n",
        "from sklearn.tree import DecisionTreeRegressor\n",
        "from sklearn.ensemble import RandomForestRegressor, GradientBoostingRegressor\n",
        "from sklearn.svm import SVR"
      ],
      "metadata": {
        "id": "j7OPIb5QFRHF"
      },
      "execution_count": 2,
      "outputs": []
    },
    {
      "cell_type": "code",
      "source": [
        "try:\n",
        "    import xgboost as xgb\n",
        "    has_xgb = True\n",
        "except Exception:\n",
        "    has_xgb = Fals"
      ],
      "metadata": {
        "id": "Se4jqWijFWZp"
      },
      "execution_count": 3,
      "outputs": []
    },
    {
      "cell_type": "code",
      "source": [
        "import tensorflow as tf\n",
        "from tensorflow.keras import layers, models, callbacks"
      ],
      "metadata": {
        "id": "IYAVCHfrFZmr"
      },
      "execution_count": 4,
      "outputs": []
    },
    {
      "cell_type": "code",
      "source": [
        "import shap"
      ],
      "metadata": {
        "id": "ihUqXmQOFepM"
      },
      "execution_count": 5,
      "outputs": []
    },
    {
      "cell_type": "code",
      "source": [
        "try:\n",
        "    import lime\n",
        "    from lime import lime_tabular\n",
        "    has_lime = True\n",
        "except Exception:\n",
        "    has_lime = False"
      ],
      "metadata": {
        "id": "In3TCWlTFkSH"
      },
      "execution_count": 6,
      "outputs": []
    },
    {
      "cell_type": "code",
      "source": [
        "import seaborn as sns\n",
        "sns.set(style='whitegrid')"
      ],
      "metadata": {
        "id": "U7LiggVFFliO"
      },
      "execution_count": 7,
      "outputs": []
    },
    {
      "cell_type": "code",
      "source": [
        "DATA_PATH = '/tmp/data.csv' # Define the path to your data file\n",
        "\n",
        "if not os.path.exists(DATA_PATH):\n",
        "    print(f\"{DATA_PATH} not found. Please upload it.\")\n",
        "else:\n",
        "    print(f\"Using data from {DATA_PATH}\")\n",
        "    df = pd.read_csv(DATA_PATH)\n",
        "    print(\"Dataset loaded. Shape:\", df.shape)\n",
        "    display(df.head())"
      ],
      "metadata": {
        "colab": {
          "base_uri": "https://localhost:8080/"
        },
        "id": "edgUiTl-FrHJ",
        "outputId": "13b42736-96fc-4170-dc0b-a9a87b06db83"
      },
      "execution_count": 9,
      "outputs": [
        {
          "output_type": "stream",
          "name": "stdout",
          "text": [
            "/tmp/data.csv not found. Please upload it.\n"
          ]
        }
      ]
    },
    {
      "cell_type": "code",
      "source": [
        "try:\n",
        "    df_info = df.info()\n",
        "except Exception:\n",
        "    pass"
      ],
      "metadata": {
        "id": "XMeuCwpbF4-p"
      },
      "execution_count": 10,
      "outputs": []
    },
    {
      "cell_type": "code",
      "source": [
        "import pandas as pd\n",
        "import matplotlib.pyplot as plt\n",
        "\n",
        "# Load your CSV (update the path/filename)\n",
        "df = pd.read_csv(\"/content/co_emissions.csv\")\n",
        "\n",
        "# look at the first few rows\n",
        "print(df.head())\n",
        "print(df.columns)"
      ],
      "metadata": {
        "colab": {
          "base_uri": "https://localhost:8080/"
        },
        "id": "-DebfWlfF_YG",
        "outputId": "513d2b2f-e378-4f35-fa9b-b3d86d8350b5"
      },
      "execution_count": 12,
      "outputs": [
        {
          "output_type": "stream",
          "name": "stdout",
          "text": [
            "        Entity Code  Year  Annual CO₂ emissions\n",
            "0  Afghanistan  AFG  1949               14656.0\n",
            "1  Afghanistan  AFG  1950               84272.0\n",
            "2  Afghanistan  AFG  1951               91600.0\n",
            "3  Afghanistan  AFG  1952               91600.0\n",
            "4  Afghanistan  AFG  1953              106256.0\n",
            "Index(['Entity', 'Code', 'Year', 'Annual CO₂ emissions'], dtype='object')\n"
          ]
        }
      ]
    },
    {
      "cell_type": "code",
      "source": [
        "num_cols = df.select_dtypes(include=[np.number]).columns.tolist()\n",
        "if len(num_cols) > 1:\n",
        "    corr = df[num_cols].corr()\n",
        "    plt.figure(figsize=(10,8))\n",
        "    sns.heatmap(corr, annot=False, cmap='coolwarm')\n",
        "    plt.title('Correlation matrix (numeric features)')\n",
        "    plt.show()"
      ],
      "metadata": {
        "colab": {
          "base_uri": "https://localhost:8080/",
          "height": 703
        },
        "id": "-lQOjDfQInpj",
        "outputId": "224028f6-71a0-4d6c-e77e-896806f07914"
      },
      "execution_count": 13,
      "outputs": [
        {
          "output_type": "display_data",
          "data": {
            "text/plain": [
              "<Figure size 1000x800 with 2 Axes>"
            ],
            "image/png": "[encoded data removed]"
          },
          "metadata": {}
        }
      ]
    },
    {
      "cell_type": "code",
      "source": [
        "cat_cols = df.select_dtypes(include=['object', 'category']).columns.tolist()\n",
        "# Define target_col before using it\n",
        "if 'CO2_emissions' in df.columns:\n",
        "    target_col = 'CO2_emissions'\n",
        "else:\n",
        "    # try searching for plausible target columns\n",
        "    candidates = [c for c in df.columns if 'co2' in c.lower() or 'emiss' in c.lower()]\n",
        "    target_col = candidates[0] if candidates else df.columns[-1]\n",
        "    print('Auto-selected target column:', target_col)\n",
        "\n",
        "num_cols = [c for c in df.select_dtypes(include=[np.number]).columns.tolist() if c != target_col]"
      ],
      "metadata": {
        "colab": {
          "base_uri": "https://localhost:8080/"
        },
        "id": "_btf34f7Ittq",
        "outputId": "ab08e18b-fd80-4282-e971-1bcc76bb208b"
      },
      "execution_count": 14,
      "outputs": [
        {
          "output_type": "stream",
          "name": "stdout",
          "text": [
            "Auto-selected target column: Annual CO₂ emissions\n"
          ]
        }
      ]
    },
    {
      "cell_type": "code",
      "source": [
        "print('Categorical columns:', cat_cols)\n",
        "print('Numerical columns:', num_cols)"
      ],
      "metadata": {
        "colab": {
          "base_uri": "https://localhost:8080/"
        },
        "id": "R4FGtT7jIzXm",
        "outputId": "35dd0b69-f0ab-4ff4-abef-f2d2fefe7b22"
      },
      "execution_count": 15,
      "outputs": [
        {
          "output_type": "stream",
          "name": "stdout",
          "text": [
            "Categorical columns: ['Entity', 'Code']\n",
            "Numerical columns: ['Year']\n"
          ]
        }
      ]
    },
    {
      "cell_type": "code",
      "source": [
        "if 'population' in df.columns:\n",
        "    df['co2_per_capita'] = df[target_col] / (df['population'].replace({0: np.nan}))\n",
        "    num_cols.append('co2_per_capita')"
      ],
      "metadata": {
        "id": "hXfCG_ARJCS9"
      },
      "execution_count": 16,
      "outputs": []
    },
    {
      "cell_type": "code",
      "source": [
        "for col in num_cols:\n",
        "    if (df[col] > 0).all() and df[col].skew() > 1:\n",
        "        df[col + '_log'] = np.log1p(df[col])\n",
        "        num_cols.append(col + '_log')"
      ],
      "metadata": {
        "id": "9De_4brvJDjk"
      },
      "execution_count": 17,
      "outputs": []
    },
    {
      "cell_type": "code",
      "source": [
        "numeric_transformer = Pipeline(steps=[\n",
        "('imputer', SimpleImputer(strategy='median')),\n",
        "('scaler', StandardScaler())\n",
        "])"
      ],
      "metadata": {
        "id": "vFz_msdyJHax"
      },
      "execution_count": 18,
      "outputs": []
    },
    {
      "cell_type": "code",
      "source": [
        "categorical_transformer = Pipeline(steps=[\n",
        "('imputer', SimpleImputer(strategy='most_frequent')),\n",
        "('onehot', OneHotEncoder(handle_unknown='ignore'))\n",
        "])"
      ],
      "metadata": {
        "id": "5Dg2fbuVJMm9"
      },
      "execution_count": 19,
      "outputs": []
    },
    {
      "cell_type": "code",
      "source": [
        "preprocessor = ColumnTransformer(\n",
        "transformers=[\n",
        "('num', numeric_transformer, num_cols),\n",
        "('cat', categorical_transformer, cat_cols)\n",
        "],\n",
        "remainder='drop'\n",
        ")"
      ],
      "metadata": {
        "id": "CF0HN-EXJOPT"
      },
      "execution_count": 20,
      "outputs": []
    },
    {
      "cell_type": "code",
      "source": [
        "all_cols = num_cols + cat_cols\n",
        "unique_cols = list(set(all_cols))\n",
        "X = df[unique_cols].copy()\n",
        "y = df[target_col].copy()"
      ],
      "metadata": {
        "id": "EXcyI8MtJS2p"
      },
      "execution_count": null,
      "outputs": []
    },
    {
      "cell_type": "code",
      "source": [
        "models = {\n",
        "'LinearRegression': LinearRegression(),\n",
        "'Ridge': Ridge(alpha=1.0),\n",
        "'Lasso': Lasso(alpha=0.01),\n",
        "'DecisionTree': DecisionTreeRegressor(random_state=42),\n",
        "'RandomForest': RandomForestRegressor(n_estimators=100, random_state=42),\n",
        "'GradientBoosting': GradientBoostingRegressor(n_estimators=100, random_state=42),\n",
        "'SVR': SVR()\n",
        "}"
      ],
      "metadata": {
        "id": "RJ8n1zoPKClW"
      },
      "execution_count": 25,
      "outputs": []
    },
    {
      "cell_type": "code",
      "source": [
        "if has_xgb:\n",
        "    models['XGBoost'] = xgb.XGBRegressor(objective='reg:squarederror', n_estimators=100, random_state=42)"
      ],
      "metadata": {
        "id": "0m1tp54rKDuN"
      },
      "execution_count": 26,
      "outputs": []
    },
    {
      "cell_type": "code",
      "source": [
        "def build_mlp(input_dim):\n",
        "    model = tf.keras.models.Sequential([\n",
        "    layers.Input(shape=(input_dim,)),\n",
        "    layers.Dense(128, activation='relu'),\n",
        "    layers.Dense(64, activation='relu'),\n",
        "    layers.Dense(1, activation='linear')\n",
        "    ])\n",
        "    model.compile(optimizer='adam', loss='mse', metrics=['mae'])\n",
        "    return model"
      ],
      "metadata": {
        "id": "QBlVBBbfKJEP"
      },
      "execution_count": 27,
      "outputs": []
    },
    {
      "cell_type": "code",
      "source": [
        "rf = models['RandomForest']\n",
        "try:\n",
        "    importances = rf.feature_importances_\n",
        "    fi = pd.Series(importances, index=feature_names)\n",
        "    fi_sorted = fi.sort_values(ascending=False).head(20)\n",
        "    plt.figure(figsize=(8,6))\n",
        "    fi_sorted.plot(kind='bar')\n",
        "    plt.title('Random Forest Top Feature Importances')\n",
        "    plt.show()\n",
        "except Exception as e:\n",
        "    print('Could not compute feature importances:', e)"
      ],
      "metadata": {
        "colab": {
          "base_uri": "https://localhost:8080/"
        },
        "id": "_4fQa7sWKMnP",
        "outputId": "ecc1e7b8-e913-45dc-c34e-434b78559fff"
      },
      "execution_count": 28,
      "outputs": [
        {
          "output_type": "stream",
          "name": "stdout",
          "text": [
            "Could not compute feature importances: This RandomForestRegressor instance is not fitted yet. Call 'fit' with appropriate arguments before using this estimator.\n"
          ]
        }
      ]
    }
  ]
}