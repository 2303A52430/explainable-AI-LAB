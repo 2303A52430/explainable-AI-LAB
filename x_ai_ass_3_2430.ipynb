{
  "nbformat": 4,
  "nbformat_minor": 0,
  "metadata": {
    "colab": {
      "provenance": [],
      "authorship_tag": "ABX9TyMP4fSCr3sxZ0TT2N8GQ9ed",
      "include_colab_link": true
    },
    "kernelspec": {
      "name": "python3",
      "display_name": "Python 3"
    },
    "language_info": {
      "name": "python"
    }
  },
  "cells": [
    {
      "cell_type": "markdown",
      "metadata": {
        "id": "view-in-github",
        "colab_type": "text"
      },
      "source": [
        "<a href=\"https://colab.research.google.com/github/2303A52430/explainable-AI-LAB/blob/main/x_ai_ass_3_2430.ipynb\" target=\"_parent\"><img src=\"https://colab.research.google.com/assets/colab-badge.svg\" alt=\"Open In Colab\"/></a>"
      ]
    },
    {
      "cell_type": "code",
      "execution_count": null,
      "metadata": {
        "id": "LZq2ykXZQl_S"
      },
      "outputs": [],
      "source": [
        " import os\n",
        " import zipfile\n",
        " import tensorflow as tf\n",
        " from tensorflow.keras.models import Sequential\n",
        " from tensorflow.keras.layers import Conv2D, MaxPooling2D, Flatten, Dense,␣\n",
        " ↪Dropout\n",
        " import matplotlib.pyplot as plt"
      ]
    },
    {
      "cell_type": "code",
      "source": [
        "zip_path = \"/content/Apple.zip\"\n",
        " extract_path = \"/content/Apple\""
      ],
      "metadata": {
        "id": "NTKBRpPlQs5K"
      },
      "execution_count": null,
      "outputs": []
    },
    {
      "cell_type": "code",
      "source": [
        "img_size = (128, 128)\n",
        " batch_size = 32"
      ],
      "metadata": {
        "id": "dxeD6zDnQwvS"
      },
      "execution_count": null,
      "outputs": []
    },
    {
      "cell_type": "code",
      "source": [
        "ith zipfile.ZipFile(zip_path, 'r') as zip_ref:\n",
        " zip_ref.extractall(extract_path)\n",
        " dataset_dir = extract_path"
      ],
      "metadata": {
        "id": "mIqvLhbwQxnT"
      },
      "execution_count": null,
      "outputs": []
    },
    {
      "cell_type": "code",
      "source": [
        "train_ds = tf.keras.utils.image_dataset_from_directory(\n",
        " dataset_dir,\n",
        " validation_split=0.2, # 20% for validation\n",
        " subset=\"training\",\n",
        " seed=123,\n",
        " image_size=img_size,\n",
        " batch_size=batch_size\n",
        " )\n",
        " val_ds = tf.keras.utils.image_dataset_from_directory(\n",
        " dataset_dir,\n",
        " validation_split=0.2, # 20% for validation\n",
        " subset=\"validation\",\n",
        " seed=123,\n",
        " image_size=img_size,\n",
        ""
      ],
      "metadata": {
        "id": "Z5ZNCeB2Q1P4"
      },
      "execution_count": null,
      "outputs": []
    },
    {
      "cell_type": "code",
      "source": [
        "model = Sequential([\n",
        " Conv2D(32, (3,3), activation=\"relu\", input_shape=(128,128,3)),\n",
        " MaxPooling2D(2,2),\n",
        " Conv2D(64, (3,3), activation=\"relu\"),\n",
        " MaxPooling2D(2,2),\n",
        " Conv2D(128, (3,3), activation=\"relu\"),\n",
        " MaxPooling2D(2,2),\n",
        " Flatten(),\n",
        " Dense(128, activation=\"relu\"),\n",
        " Dropout(0.5),\n",
        " Dense(num_classes, activation=\"softmax\")\n",
        " ])"
      ],
      "metadata": {
        "id": "BG7vbvR7Q5K9"
      },
      "execution_count": null,
      "outputs": []
    },
    {
      "cell_type": "code",
      "source": [
        " model.compile(optimizer=\"adam\",\n",
        " loss=\"sparse_categorical_crossentropy\",\n",
        " metrics=[\"accuracy\"])\n",
        " model.summary()"
      ],
      "metadata": {
        "id": "eKtorDLQQ98Z"
      },
      "execution_count": null,
      "outputs": []
    },
    {
      "cell_type": "code",
      "source": [
        "history = model.fit(\n",
        " train_ds,\n",
        " validation_data=val_ds,\n",
        " epochs=10\n",
        " )"
      ],
      "metadata": {
        "id": "kDamnZDzRA--"
      },
      "execution_count": null,
      "outputs": []
    },
    {
      "cell_type": "code",
      "source": [
        "plt.subplot(1,2,2)\n",
        " plt.plot(history.history[\"loss\"], label=\"Train Loss\")\n",
        " plt.plot(history.history[\"val_loss\"], label=\"Val Loss\")\n",
        " plt.legend()\n",
        " plt.title(\"Loss\")"
      ],
      "metadata": {
        "id": "eoAQPxCuREOq"
      },
      "execution_count": null,
      "outputs": []
    },
    {
      "cell_type": "code",
      "source": [
        ": plt.subplot(1,2,2)\n",
        " plt.plot(history.history[\"loss\"], label=\"Train Loss\")\n",
        " plt.plot(history.history[\"val_loss\"], label=\"Val Loss\")\n",
        " plt.legend()\n",
        " plt.title(\"Loss\")"
      ],
      "metadata": {
        "id": "LKpLuUbmRJO4"
      },
      "execution_count": null,
      "outputs": []
    },
    {
      "cell_type": "code",
      "source": [
        "lt.subplot(1,2,1)\n",
        " plt.plot(history.history[\"accuracy\"], label=\"Train Accuracy\", marker='o')\n",
        " plt.plot(history.history[\"val_accuracy\"], label=\"Validation Accuracy\",␣\n",
        " ↪marker='o')\n",
        " plt.title(\"Model Accuracy\")\n",
        " plt.xlabel(\"Epochs\")\n",
        " plt.ylabel(\"Accuracy\")\n",
        " plt.legend()\n",
        " plt.grid(True)"
      ],
      "metadata": {
        "id": "7LOTu8qWRM1b"
      },
      "execution_count": null,
      "outputs": []
    },
    {
      "cell_type": "code",
      "source": [
        "plt.subplot(1,2,2)\n",
        " plt.plot(history.history[\"loss\"], label=\"Train Loss\", marker='o')\n",
        " plt.plot(history.history[\"val_loss\"], label=\"Validation Loss\", marker='o')\n",
        " plt.title(\"Model Loss\")\n",
        " plt.xlabel(\"Epochs\")\n",
        " plt.ylabel(\"Loss\")\n",
        " plt.legend()\n",
        " plt.grid(True)"
      ],
      "metadata": {
        "id": "hW5eQnBwRQsU"
      },
      "execution_count": null,
      "outputs": []
    },
    {
      "cell_type": "code",
      "source": [
        "plt.figure(figsize=(10, 10))\n",
        " for images, labels in train_ds.take(1):\n",
        " for i in range(9):\n",
        " ax = plt.subplot(3, 3, i + 1)\n",
        " plt.imshow(images[i].numpy().astype(\"uint8\"))\n",
        " plt.title(class_names[labels[i]])\n",
        " plt.axis(\"off\")"
      ],
      "metadata": {
        "id": "CbqAre8wRVJu"
      },
      "execution_count": null,
      "outputs": []
    }
  ]
}